{
 "cells": [
  {
   "cell_type": "markdown",
   "id": "a41dc23e-359c-4f4d-bdc3-13cfef494f1e",
   "metadata": {},
   "source": [
    "# 🧠 Detecting Questions in User Input Using Python\n",
    "\n",
    "---\n",
    "### [By Srushti Shimpi](https://github.com/srushtishimpi)\n",
    "\n",
    "---\n",
    "\n",
    "\n",
    "## ✅ Introduction\n",
    "\n",
    "Detecting whether a sentence is a **question** (interrogative) is an essential task in natural language processing (NLP), chatbot development, and rule-based classification systems.\n",
    "\n",
    "While machine learning models can be trained for this task, it's often faster and more efficient to use a rule-based approach—especially when the structure of the language is predictable. This tutorial walks you through how to detect whether a sentence is a question using simple Python logic.\n",
    "\n",
    "---\n",
    "\n",
    "## 🎯 Objective\n",
    "\n",
    "To write a Python program that:\n",
    "- Accepts a sentence from the user\n",
    "- Detects if the sentence is an interrogative question\n",
    "- Prints a message indicating whether or not the sentence is a question\n",
    "\n",
    "---\n",
    "\n",
    "## 🧠 Understanding Interrogative Sentences\n",
    "\n",
    "A question usually starts with specific words known as **interrogative words**. Some common examples include:\n",
    "\n",
    "- What  \n",
    "- Where  \n",
    "- When  \n",
    "- Why  \n",
    "- Who  \n",
    "- How  \n",
    "- Is  \n",
    "- Are  \n",
    "- Do  \n",
    "- Does  \n",
    "- Can  \n",
    "- Could  \n",
    "- Would  \n",
    "- Will  \n",
    "\n",
    "For example:\n",
    "\n",
    "❓ *What is your name?*\n",
    "\n",
    "❓ *Where do you live?*\n",
    "\n",
    "In both cases, the sentence begins with an interrogative word, making it a question.\n",
    "\n",
    "---\n",
    "\n",
    "## 🐍 Python Code to Detect Questions"
   ]
  },
  {
   "cell_type": "markdown",
   "id": "c8da7504-0627-49cf-b115-b32ac6e9196c",
   "metadata": {},
   "source": [
    "### 🔹 Step 1: Define a Function\n",
    "\n",
    "* We define a function named `is_question()` that will take a sentence as input and return `True` if it’s a question, else `False`.\n",
    "\n",
    "* This is a list of **interrogative words** commonly used to start questions.\n",
    "\n",
    "* We remove leading/trailing spaces and convert the sentence to lowercase for uniformity in comparison.\n",
    "\n",
    "* We check if the sentence starts with any word in the `question_words` list.\n",
    "\n",
    "* If none of the above checks are true, it’s not a question."
   ]
  },
  {
   "cell_type": "code",
   "execution_count": 1,
   "id": "1c041215-8ef1-4d22-80e4-fd7cd574e4a7",
   "metadata": {},
   "outputs": [],
   "source": [
    "def is_question(sentence):\n",
    "    # List of common question words\n",
    "    question_words = [\n",
    "        'what', 'where', 'when', 'why', 'who', 'how',\n",
    "        'is', 'are', 'am', 'do', 'does', 'did',\n",
    "        'can', 'could', 'would', 'will', 'shall', 'should'\n",
    "    ]\n",
    "    \n",
    "    # Clean and prepare the sentence\n",
    "    sentence = sentence.strip().lower()\n",
    "    \n",
    "    # Check if the sentence starts with a question word\n",
    "    for word in question_words:\n",
    "        if sentence.startswith(word):\n",
    "            return True\n",
    "    \n",
    "    # Additionally check if it ends with a question mark\n",
    "    if sentence.endswith('?'):\n",
    "        return True\n",
    "    \n",
    "    return False"
   ]
  },
  {
   "cell_type": "markdown",
   "id": "e408b370-295a-4ca8-ae1b-ce91d9a7f67b",
   "metadata": {},
   "source": [
    "### 🔹 Step 2: User Input\n",
    "We prompt the user to type a sentence."
   ]
  },
  {
   "cell_type": "code",
   "execution_count": 2,
   "id": "7e7404ea-d312-476f-99e5-3c668ece94b4",
   "metadata": {},
   "outputs": [
    {
     "name": "stdin",
     "output_type": "stream",
     "text": [
      "Enter a sentence:  how you doin\n"
     ]
    }
   ],
   "source": [
    "# Take input from the user\n",
    "user_input = input(\"Enter a sentence: \")"
   ]
  },
  {
   "cell_type": "markdown",
   "id": "2f6017c2-edd8-41c6-80cf-9d1a55cd6ab8",
   "metadata": {},
   "source": [
    "### 🔹 Step 3: Show the Result\n",
    "Based on the function's result, we print whether the sentence is a question or not."
   ]
  },
  {
   "cell_type": "code",
   "execution_count": 3,
   "id": "f8f1b21c-5728-43e2-8977-4ba6527cb895",
   "metadata": {},
   "outputs": [
    {
     "name": "stdout",
     "output_type": "stream",
     "text": [
      "Output: ✅ This is a question.\n"
     ]
    }
   ],
   "source": [
    "# Detect and print the result\n",
    "if is_question(user_input):\n",
    "    print(\"Output: ✅ This is a question.\")\n",
    "else:\n",
    "    print(\"Output: ❌ This is not a question.\")"
   ]
  },
  {
   "cell_type": "markdown",
   "id": "d00e67ed-a79e-4457-b33f-fa5ee30102ee",
   "metadata": {},
   "source": [
    "---\n",
    "\n",
    "## 💻 Step-by-Step Code Explanation Table\n",
    "\n",
    "| **Step** | **Code Snippet** | **Explanation** |\n",
    "|----------|------------------|------------------|\n",
    "| **1** | `def is_question(sentence):` | Defines a function named `is_question` that takes a sentence as input. |\n",
    "| **2** | `question_words = [...]` | Creates a list of common interrogative words (e.g., *what*, *where*, *can*, *should*) typically found at the beginning of questions. |\n",
    "| **3** | `sentence = sentence.strip().lower()` | Cleans the sentence by removing leading/trailing spaces and converting it to lowercase to ensure consistent comparison. |\n",
    "| **4** | `for word in question_words:` | Loops through each word in the list of question words. |\n",
    "| **5** | `if sentence.startswith(word):` | Checks if the sentence starts with any of the question words. |\n",
    "| **6** | `return True` | If a match is found (i.e., sentence starts with a question word), returns `True` indicating it's a question. |\n",
    "| **7** | `if sentence.endswith('?'):` | If no question word is found at the beginning, it checks if the sentence ends with a `?`, which also indicates a question. |\n",
    "| **8** | `return True` | If the sentence ends with a question mark, returns `True`. |\n",
    "| **9** | `return False` | If neither condition is met, the sentence is not a question and the function returns `False`. |\n",
    "| **10** | `user_input = input(\"Enter a sentence: \")` | Prompts the user to enter a sentence for evaluation. |\n",
    "| **11** | `if is_question(user_input):` | Calls the `is_question` function and passes the user's input. |\n",
    "| **12** | `print(\"✅ This is a question.\")` | If the function returns `True`, it prints confirmation that the sentence is a question. |\n",
    "| **13** | `print(\"❌ This is not a question.\")` | If the function returns `False`, it notifies the user that it is not a question. |\n"
   ]
  },
  {
   "cell_type": "markdown",
   "id": "b4b0edd8-e2b9-4b3a-bc31-1174161dff52",
   "metadata": {},
   "source": [
    "---\n",
    "\n",
    "## 📝 Summary\n",
    "\n",
    "In this article, we explored a simple Python-based approach to detecting questions in text using rule-based logic. While machine learning can enhance accuracy for complex datasets, this method is ideal for quick and lightweight implementations.\n",
    "\n",
    "### 🔍 Key Takeaways:\n",
    "\n",
    "- We used a **rule-based approach** to identify interrogative sentences.\n",
    "- A basic check using .startswith() and endswith('?') can effectively identify many questions.\n",
    "- This solution is fast, easy to implement, and doesn't require training data.\n",
    "- The script checks if the sentence:\n",
    "  - Starts with a common **question word** (e.g., `what`, `how`, `can`)\n",
    "  - Or ends with a **question mark (`?`)**\n",
    "- The program accepts **user input**, analyzes it, and prints whether it is a question.\n",
    "\n",
    "This approach is lightweight, effective, and perfect for:\n",
    "- Beginners in Python\n",
    "- NLP or chatbot projects\n",
    "- Pre-processing text before feeding it into machine learning models\n",
    "\n",
    "While machine learning can also be used for question detection, this method is sufficient for many real-world applications without the overhead of training and deploying models.\n",
    "\n",
    "---\n"
   ]
  }
 ],
 "metadata": {
  "kernelspec": {
   "display_name": "Python 3 (ipykernel)",
   "language": "python",
   "name": "python3"
  },
  "language_info": {
   "codemirror_mode": {
    "name": "ipython",
    "version": 3
   },
   "file_extension": ".py",
   "mimetype": "text/x-python",
   "name": "python",
   "nbconvert_exporter": "python",
   "pygments_lexer": "ipython3",
   "version": "3.12.9"
  }
 },
 "nbformat": 4,
 "nbformat_minor": 5
}
